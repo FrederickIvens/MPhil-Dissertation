{
 "cells": [
  {
   "cell_type": "code",
   "execution_count": 2,
   "metadata": {},
   "outputs": [],
   "source": [
    "import pypsa\n",
    "import matplotlib.pyplot as plt\n",
    "import pandas as pd \n",
    "import numpy as np\n",
    "from dictionaries import regions_dic, links_dic, res_potential_dic, demand_profile_dic\n",
    "from pyproj import Geod\n",
    "import warnings\n",
    "from shapely.errors import ShapelyDeprecationWarning\n",
    "warnings.filterwarnings(\"ignore\", category=ShapelyDeprecationWarning)\n",
    "plt.rc(\"figure\", figsize=(50, 50))\n"
   ]
  },
  {
   "cell_type": "code",
   "execution_count": 7,
   "metadata": {},
   "outputs": [
    {
     "data": {
      "text/plain": [
       "['Belarus', 'Russia', 'Ukraine']"
      ]
     },
     "execution_count": 7,
     "metadata": {},
     "output_type": "execute_result"
    }
   ],
   "source": [
    "regions_dic[10][\"countries\"]"
   ]
  },
  {
   "cell_type": "markdown",
   "metadata": {},
   "source": [
    "# Interconnectors"
   ]
  },
  {
   "cell_type": "markdown",
   "metadata": {},
   "source": [
    "### Calculation of distances between nodes"
   ]
  },
  {
   "cell_type": "code",
   "execution_count": 2,
   "metadata": {},
   "outputs": [],
   "source": [
    "# Create a Geod object for the WGS84 ellipsoid\n",
    "geod = Geod(ellps=\"WGS84\")\n",
    "\n",
    "# Function that calculates the distance between two nodes\n",
    "def calculate_distance(bus0, bus1):\n",
    "    \"\"\"Calculates the actual distance between two points on the earth.\n",
    "\n",
    "    Args:\n",
    "        node1 (int): Identifier of bus 0\n",
    "        node2 (int): Identifier of bus 1\n",
    "\n",
    "    Returns:\n",
    "        float: Distance between the two nodes in km.\n",
    "    \"\"\"\n",
    "    lon1, lat1 = regions_dic[bus0][\"coordinates\"]\n",
    "    lon2, lat2 = regions_dic[bus1][\"coordinates\"]\n",
    "    _, _, distance = geod.inv(lon1, lat1, lon2, lat2)\n",
    "    return distance / 1000\n",
    "\n",
    "# Compute the lengths of the interconnectors and store in dictionary\n",
    "for link in links_dic:\n",
    "    links_dic[link][\"length\"] = calculate_distance(links_dic[link][\"bus0\"][0], links_dic[link][\"bus1\"][0])\n"
   ]
  },
  {
   "cell_type": "markdown",
   "metadata": {},
   "source": [
    "### Calculation of efficiency"
   ]
  },
  {
   "cell_type": "code",
   "execution_count": 3,
   "metadata": {},
   "outputs": [],
   "source": [
    "def efficiency_link(P, V, rho, l):\n",
    "    \"\"\"Calculates the relative losses of each interconnector.\n",
    "\n",
    "    Args:\n",
    "        P (float): Power capacity of cable in MW\n",
    "        V (float): Cable volatge in kV \n",
    "        rho (float): Resisitivity of cable in ohms/km\n",
    "        l (float): length of cable in km\n",
    "\n",
    "    Returns:\n",
    "        float: Efficiency of the cable \n",
    "    \"\"\"\n",
    "    I = P / V * 1000 # Current in amperes (A)\n",
    "    R = rho * l # Resistance in ohms \n",
    "    losses = I**2 * R * 1e-6 # total losses in MW\n",
    "    efficiency =  1 - losses / P # Efficiency of the cable\n",
    "\n",
    "    return efficiency\n",
    "\n",
    "# Compute the efficiency of the interconnectors and store in dictionary\n",
    "cable_capacity = 1200 # Capacity of cable in MW\n",
    "cable_voltage = 1100 # Voltage of cable in kV\n",
    "cable_resistivity = 0.01286 # Resistivity of the cable in ohms/km\n",
    "converter_losses = 0.015 # rlative losses for the converter pair\n",
    "for link in links_dic:\n",
    "    links_dic[link][\"efficiency\"] = efficiency_link(cable_capacity, cable_voltage, cable_resistivity, links_dic[link][\"length\"]) - converter_losses"
   ]
  },
  {
   "cell_type": "markdown",
   "metadata": {},
   "source": [
    "# PyPSA "
   ]
  },
  {
   "cell_type": "markdown",
   "metadata": {},
   "source": [
    "### Create the grid"
   ]
  },
  {
   "cell_type": "code",
   "execution_count": 20,
   "metadata": {},
   "outputs": [],
   "source": [
    "# Initialise the network\n",
    "globalgrid = pypsa.Network() \n",
    "\n",
    "# Loop over the dictionary to add the buses\n",
    "for i in regions_dic:\n",
    "    globalgrid.add(class_name = \"Bus\", name = regions_dic[i][\"region\"], v_nom=f'{cable_voltage}', carrier = \"DC\", v_mag_pu_set=1.0, v_mag_pu_min=0.95,v_mag_pu_max=1.05,x = regions_dic[i][\"coordinates\"][0] , y = regions_dic[i][\"coordinates\"][1]) \n",
    "    \n",
    "# Loop over the dictionary to add the links\n",
    "for link in links_dic:\n",
    "    globalgrid.add(class_name=\"Link\", name=links_dic[link][\"name\"], bus0=links_dic[link][\"bus0\"][1], bus1=links_dic[link][\"bus1\"][1], efficiency=links_dic[link][\"efficiency\"] , marginal_cost=0, p_min_pu=-1, p_nom_max= np.inf, p_nom_extendable=True)\n",
    "\n",
    "# Loop over the dictionary to add the renewable profiles --> these are the renewable potential generated with Atlite\n",
    "for node in res_potential_dic:\n",
    "    globalgrid.add(class_name=\"Generator\", name=f'Wind {res_potential_dic[node][\"name\"]}', type=\"Wind\", bus=res_potential_dic[node][\"name\"], p_nom_extendable = True, p_nom_max=res_potential_dic[node][\"wind_series\"],p_nom_min=res_potential_dic[node][\"wind_series\"], marginal_cost = 0)\n",
    "    globalgrid.add(class_name=\"Generator\", name=f'PV {res_potential_dic[node][\"name\"]}', type=\"PV\", bus=res_potential_dic[node][\"name\"], p_nom_extendable = True, p_nom_max=res_potential_dic[node][\"pv_series\"],p_nom_min=res_potential_dic[node][\"pv_series\"], marginal_cost = 0)\n",
    "    globalgrid.add(class_name=\"Generator\", name=f'Curtailment {res_potential_dic[node][\"name\"]}', type=\"PV\", bus=res_potential_dic[node][\"name\"], p_nom_extendable = True, marginal_cost = 10000)\n",
    "\n",
    "# Loop over the dictionary to add the demand profiles --> these are the demand profiles for each region\n",
    "for node in demand_profile_dic:\n",
    "    globalgrid.add(class_name=\"Load\", name=f\"{demand_profile_dic[node][\"name\"]}\", bus=demand_profile_dic[node][\"name\"], p_set=demand_profile_dic[node][\"demand_series\"])\n",
    "    "
   ]
  },
  {
   "cell_type": "markdown",
   "metadata": {},
   "source": [
    "### Solve the optmisation problem"
   ]
  },
  {
   "cell_type": "code",
   "execution_count": null,
   "metadata": {},
   "outputs": [],
   "source": [
    "# # Define a time range for an entire year with hourly resolution\n",
    "# time_series = pd.date_range(\"2023-01-01 00:00\", \"2023-12-31 23:00\", freq=\"h\")\n",
    "\n",
    "# # Set the snapshot time range for PyPSA\n",
    "# globalgrid.set_snapshots(time_series)\n",
    "\n",
    "# # Optimize the grid\n",
    "# globalgrid.optimize(solver_name='glpk')"
   ]
  },
  {
   "cell_type": "code",
   "execution_count": 8,
   "metadata": {},
   "outputs": [],
   "source": [
    "# globalgrid.plot(\n",
    "#     title=\"Geo map of buses\",\n",
    "#     color_geomap=True,\n",
    "#     bus_sizes=2,\n",
    "#     bus_colors=\"red\",\n",
    "#     link_widths=5,\n",
    "#     link_colors=\"blue\"\n",
    "# )"
   ]
  }
 ],
 "metadata": {
  "kernelspec": {
   "display_name": "mphil",
   "language": "python",
   "name": "python3"
  },
  "language_info": {
   "codemirror_mode": {
    "name": "ipython",
    "version": 3
   },
   "file_extension": ".py",
   "mimetype": "text/x-python",
   "name": "python",
   "nbconvert_exporter": "python",
   "pygments_lexer": "ipython3",
   "version": "3.12.3"
  }
 },
 "nbformat": 4,
 "nbformat_minor": 2
}
