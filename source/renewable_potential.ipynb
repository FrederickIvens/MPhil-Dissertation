{
 "cells": [
  {
   "cell_type": "code",
   "execution_count": 4,
   "metadata": {},
   "outputs": [],
   "source": [
    "import bottleneck\n",
    "import cdsapi\n",
    "import dask\n",
    "import geopandas as gpd\n",
    "import netCDF4\n",
    "import numexpr\n",
    "import numpy as np\n",
    "import pandas as pd\n",
    "import tqdm\n",
    "import rasterio\n",
    "import rtree\n",
    "import scipy\n",
    "import shapely\n",
    "import xarray as xr\n",
    "import atlite\n",
    "import logging\n",
    "\n",
    "logging.basicConfig(level=logging.INFO)"
   ]
  },
  {
   "cell_type": "code",
   "execution_count": 9,
   "metadata": {},
   "outputs": [
    {
     "name": "stderr",
     "output_type": "stream",
     "text": [
      "INFO:atlite.cutout:Building new cutout global-2023-era5-hourly.nc\n",
      "INFO:atlite.data:Storing temporary files in /var/folders/ds/cj7372k1487ccc2t6pwv92m80000gn/T/tmp9139ae6i\n",
      "INFO:atlite.data:Calculating and writing with module era5:\n"
     ]
    },
    {
     "ename": "Exception",
     "evalue": "Missing/incomplete configuration file: /Users/frederickivens/.cdsapirc",
     "output_type": "error",
     "traceback": [
      "\u001b[0;31m---------------------------------------------------------------------------\u001b[0m",
      "\u001b[0;31mException\u001b[0m                                 Traceback (most recent call last)",
      "\u001b[1;32m/Users/frederickivens/Documents/Codes/fi246/renewable_potential.ipynb Cell 2\u001b[0m line \u001b[0;36m3\n\u001b[1;32m     <a href='vscode-notebook-cell:/Users/frederickivens/Documents/Codes/fi246/renewable_potential.ipynb#X11sZmlsZQ%3D%3D?line=26'>27</a>\u001b[0m cutout_global \u001b[39m=\u001b[39m atlite\u001b[39m.\u001b[39mCutout(\n\u001b[1;32m     <a href='vscode-notebook-cell:/Users/frederickivens/Documents/Codes/fi246/renewable_potential.ipynb#X11sZmlsZQ%3D%3D?line=27'>28</a>\u001b[0m     path\u001b[39m=\u001b[39m\u001b[39m\"\u001b[39m\u001b[39mglobal-2023-era5-hourly.nc\u001b[39m\u001b[39m\"\u001b[39m,  \u001b[39m# Path where the cutout file will be saved\u001b[39;00m\n\u001b[1;32m     <a href='vscode-notebook-cell:/Users/frederickivens/Documents/Codes/fi246/renewable_potential.ipynb#X11sZmlsZQ%3D%3D?line=28'>29</a>\u001b[0m     module\u001b[39m=\u001b[39m\u001b[39m\"\u001b[39m\u001b[39mera5\u001b[39m\u001b[39m\"\u001b[39m,                      \u001b[39m# The weather data source\u001b[39;00m\n\u001b[1;32m     <a href='vscode-notebook-cell:/Users/frederickivens/Documents/Codes/fi246/renewable_potential.ipynb#X11sZmlsZQ%3D%3D?line=29'>30</a>\u001b[0m     bounds\u001b[39m=\u001b[39mglobal_bounds,               \u001b[39m# The geographical bounds from the union of all countries\u001b[39;00m\n\u001b[1;32m     <a href='vscode-notebook-cell:/Users/frederickivens/Documents/Codes/fi246/renewable_potential.ipynb#X11sZmlsZQ%3D%3D?line=30'>31</a>\u001b[0m     time\u001b[39m=\u001b[39mtime_range                     \u001b[39m# The time range with hourly resolution\u001b[39;00m\n\u001b[1;32m     <a href='vscode-notebook-cell:/Users/frederickivens/Documents/Codes/fi246/renewable_potential.ipynb#X11sZmlsZQ%3D%3D?line=31'>32</a>\u001b[0m )\n\u001b[1;32m     <a href='vscode-notebook-cell:/Users/frederickivens/Documents/Codes/fi246/renewable_potential.ipynb#X11sZmlsZQ%3D%3D?line=33'>34</a>\u001b[0m \u001b[39m# Prepare the cutout (this will download the necessary data and process it)\u001b[39;00m\n\u001b[0;32m---> <a href='vscode-notebook-cell:/Users/frederickivens/Documents/Codes/fi246/renewable_potential.ipynb#X11sZmlsZQ%3D%3D?line=34'>35</a>\u001b[0m cutout_global\u001b[39m.\u001b[39;49mprepare()\n",
      "File \u001b[0;32m~/Documents/Codes/mphil/lib/python3.12/site-packages/atlite/data.py:103\u001b[0m, in \u001b[0;36mmaybe_remove_tmpdir.<locals>.wrapper\u001b[0;34m(*args, **kwargs)\u001b[0m\n\u001b[1;32m    101\u001b[0m kwargs[\u001b[39m\"\u001b[39m\u001b[39mtmpdir\u001b[39m\u001b[39m\"\u001b[39m] \u001b[39m=\u001b[39m mkdtemp()\n\u001b[1;32m    102\u001b[0m \u001b[39mtry\u001b[39;00m:\n\u001b[0;32m--> 103\u001b[0m     res \u001b[39m=\u001b[39m func(\u001b[39m*\u001b[39;49margs, \u001b[39m*\u001b[39;49m\u001b[39m*\u001b[39;49mkwargs)\n\u001b[1;32m    104\u001b[0m \u001b[39mfinally\u001b[39;00m:\n\u001b[1;32m    105\u001b[0m     rmtree(kwargs[\u001b[39m\"\u001b[39m\u001b[39mtmpdir\u001b[39m\u001b[39m\"\u001b[39m])\n",
      "File \u001b[0;32m~/Documents/Codes/mphil/lib/python3.12/site-packages/atlite/data.py:177\u001b[0m, in \u001b[0;36mcutout_prepare\u001b[0;34m(cutout, features, tmpdir, overwrite, compression)\u001b[0m\n\u001b[1;32m    175\u001b[0m logger\u001b[39m.\u001b[39minfo(\u001b[39mf\u001b[39m\u001b[39m\"\u001b[39m\u001b[39mCalculating and writing with module \u001b[39m\u001b[39m{\u001b[39;00mmodule\u001b[39m}\u001b[39;00m\u001b[39m:\u001b[39m\u001b[39m\"\u001b[39m)\n\u001b[1;32m    176\u001b[0m missing_features \u001b[39m=\u001b[39m missing_vars\u001b[39m.\u001b[39mindex\u001b[39m.\u001b[39munique(\u001b[39m\"\u001b[39m\u001b[39mfeature\u001b[39m\u001b[39m\"\u001b[39m)\n\u001b[0;32m--> 177\u001b[0m ds \u001b[39m=\u001b[39m get_features(cutout, module, missing_features, tmpdir\u001b[39m=\u001b[39;49mtmpdir)\n\u001b[1;32m    178\u001b[0m prepared \u001b[39m|\u001b[39m\u001b[39m=\u001b[39m \u001b[39mset\u001b[39m(missing_features)\n\u001b[1;32m    180\u001b[0m cutout\u001b[39m.\u001b[39mdata\u001b[39m.\u001b[39mattrs\u001b[39m.\u001b[39mupdate(\u001b[39mdict\u001b[39m(prepared_features\u001b[39m=\u001b[39m\u001b[39mlist\u001b[39m(prepared)))\n",
      "File \u001b[0;32m~/Documents/Codes/mphil/lib/python3.12/site-packages/atlite/data.py:46\u001b[0m, in \u001b[0;36mget_features\u001b[0;34m(cutout, module, features, tmpdir)\u001b[0m\n\u001b[1;32m     41\u001b[0m     feature_data \u001b[39m=\u001b[39m delayed(get_data)(\n\u001b[1;32m     42\u001b[0m         cutout, feature, tmpdir\u001b[39m=\u001b[39mtmpdir, lock\u001b[39m=\u001b[39mlock, \u001b[39m*\u001b[39m\u001b[39m*\u001b[39mparameters\n\u001b[1;32m     43\u001b[0m     )\n\u001b[1;32m     44\u001b[0m     datasets\u001b[39m.\u001b[39mappend(feature_data)\n\u001b[0;32m---> 46\u001b[0m datasets \u001b[39m=\u001b[39m compute(\u001b[39m*\u001b[39;49mdatasets)\n\u001b[1;32m     48\u001b[0m ds \u001b[39m=\u001b[39m xr\u001b[39m.\u001b[39mmerge(datasets, compat\u001b[39m=\u001b[39m\u001b[39m\"\u001b[39m\u001b[39mequals\u001b[39m\u001b[39m\"\u001b[39m)\n\u001b[1;32m     49\u001b[0m \u001b[39mfor\u001b[39;00m v \u001b[39min\u001b[39;00m ds:\n",
      "File \u001b[0;32m~/Documents/Codes/mphil/lib/python3.12/site-packages/dask/base.py:661\u001b[0m, in \u001b[0;36mcompute\u001b[0;34m(traverse, optimize_graph, scheduler, get, *args, **kwargs)\u001b[0m\n\u001b[1;32m    658\u001b[0m     postcomputes\u001b[39m.\u001b[39mappend(x\u001b[39m.\u001b[39m__dask_postcompute__())\n\u001b[1;32m    660\u001b[0m \u001b[39mwith\u001b[39;00m shorten_traceback():\n\u001b[0;32m--> 661\u001b[0m     results \u001b[39m=\u001b[39m schedule(dsk, keys, \u001b[39m*\u001b[39;49m\u001b[39m*\u001b[39;49mkwargs)\n\u001b[1;32m    663\u001b[0m \u001b[39mreturn\u001b[39;00m repack([f(r, \u001b[39m*\u001b[39ma) \u001b[39mfor\u001b[39;00m r, (f, a) \u001b[39min\u001b[39;00m \u001b[39mzip\u001b[39m(results, postcomputes)])\n",
      "File \u001b[0;32m~/Documents/Codes/mphil/lib/python3.12/site-packages/atlite/datasets/era5.py:413\u001b[0m, in \u001b[0;36mget_data\u001b[0;34m(cutout, feature, tmpdir, lock, **creation_parameters)\u001b[0m\n\u001b[1;32m    410\u001b[0m     \u001b[39mreturn\u001b[39;00m ds\n\u001b[1;32m    412\u001b[0m \u001b[39mif\u001b[39;00m feature \u001b[39min\u001b[39;00m static_features:\n\u001b[0;32m--> 413\u001b[0m     \u001b[39mreturn\u001b[39;00m retrieve_once(retrieval_times(coords, static\u001b[39m=\u001b[39;49m\u001b[39mTrue\u001b[39;49;00m))\u001b[39m.\u001b[39msqueeze()\n\u001b[1;32m    415\u001b[0m datasets \u001b[39m=\u001b[39m \u001b[39mmap\u001b[39m(retrieve_once, retrieval_times(coords))\n\u001b[1;32m    417\u001b[0m \u001b[39mreturn\u001b[39;00m xr\u001b[39m.\u001b[39mconcat(datasets, dim\u001b[39m=\u001b[39m\u001b[39m\"\u001b[39m\u001b[39mtime\u001b[39m\u001b[39m\"\u001b[39m)\u001b[39m.\u001b[39msel(time\u001b[39m=\u001b[39mcoords[\u001b[39m\"\u001b[39m\u001b[39mtime\u001b[39m\u001b[39m\"\u001b[39m])\n",
      "File \u001b[0;32m~/Documents/Codes/mphil/lib/python3.12/site-packages/atlite/datasets/era5.py:407\u001b[0m, in \u001b[0;36mget_data.<locals>.retrieve_once\u001b[0;34m(time)\u001b[0m\n\u001b[1;32m    406\u001b[0m \u001b[39mdef\u001b[39;00m \u001b[39mretrieve_once\u001b[39m(time):\n\u001b[0;32m--> 407\u001b[0m     ds \u001b[39m=\u001b[39m func({\u001b[39m*\u001b[39;49m\u001b[39m*\u001b[39;49mretrieval_params, \u001b[39m*\u001b[39;49m\u001b[39m*\u001b[39;49mtime})\n\u001b[1;32m    408\u001b[0m     \u001b[39mif\u001b[39;00m sanitize \u001b[39mand\u001b[39;00m sanitize_func \u001b[39mis\u001b[39;00m \u001b[39mnot\u001b[39;00m \u001b[39mNone\u001b[39;00m:\n\u001b[1;32m    409\u001b[0m         ds \u001b[39m=\u001b[39m sanitize_func(ds)\n",
      "File \u001b[0;32m~/Documents/Codes/mphil/lib/python3.12/site-packages/atlite/datasets/era5.py:246\u001b[0m, in \u001b[0;36mget_data_height\u001b[0;34m(retrieval_params)\u001b[0m\n\u001b[1;32m    242\u001b[0m \u001b[39mdef\u001b[39;00m \u001b[39mget_data_height\u001b[39m(retrieval_params):\n\u001b[1;32m    243\u001b[0m \u001b[39m    \u001b[39m\u001b[39m\"\"\"\u001b[39;00m\n\u001b[1;32m    244\u001b[0m \u001b[39m    Get height data for given retrieval parameters.\u001b[39;00m\n\u001b[1;32m    245\u001b[0m \u001b[39m    \"\"\"\u001b[39;00m\n\u001b[0;32m--> 246\u001b[0m     ds \u001b[39m=\u001b[39m retrieve_data(variable\u001b[39m=\u001b[39;49m\u001b[39m\"\u001b[39;49m\u001b[39mgeopotential\u001b[39;49m\u001b[39m\"\u001b[39;49m, \u001b[39m*\u001b[39;49m\u001b[39m*\u001b[39;49mretrieval_params)\n\u001b[1;32m    248\u001b[0m     ds \u001b[39m=\u001b[39m _rename_and_clean_coords(ds)\n\u001b[1;32m    249\u001b[0m     ds \u001b[39m=\u001b[39m _add_height(ds)\n",
      "File \u001b[0;32m~/Documents/Codes/mphil/lib/python3.12/site-packages/atlite/datasets/era5.py:328\u001b[0m, in \u001b[0;36mretrieve_data\u001b[0;34m(product, chunks, tmpdir, lock, **updates)\u001b[0m\n\u001b[1;32m    322\u001b[0m request\u001b[39m.\u001b[39mupdate(updates)\n\u001b[1;32m    324\u001b[0m \u001b[39massert\u001b[39;00m {\u001b[39m\"\u001b[39m\u001b[39myear\u001b[39m\u001b[39m\"\u001b[39m, \u001b[39m\"\u001b[39m\u001b[39mmonth\u001b[39m\u001b[39m\"\u001b[39m, \u001b[39m\"\u001b[39m\u001b[39mvariable\u001b[39m\u001b[39m\"\u001b[39m}\u001b[39m.\u001b[39missubset(\n\u001b[1;32m    325\u001b[0m     request\n\u001b[1;32m    326\u001b[0m ), \u001b[39m\"\u001b[39m\u001b[39mNeed to specify at least \u001b[39m\u001b[39m'\u001b[39m\u001b[39mvariable\u001b[39m\u001b[39m'\u001b[39m\u001b[39m, \u001b[39m\u001b[39m'\u001b[39m\u001b[39myear\u001b[39m\u001b[39m'\u001b[39m\u001b[39m and \u001b[39m\u001b[39m'\u001b[39m\u001b[39mmonth\u001b[39m\u001b[39m'\u001b[39m\u001b[39m\"\u001b[39m\n\u001b[0;32m--> 328\u001b[0m client \u001b[39m=\u001b[39m cdsapi\u001b[39m.\u001b[39;49mClient(\n\u001b[1;32m    329\u001b[0m     info_callback\u001b[39m=\u001b[39;49mlogger\u001b[39m.\u001b[39;49mdebug, debug\u001b[39m=\u001b[39;49mlogging\u001b[39m.\u001b[39;49mDEBUG \u001b[39m>\u001b[39;49m\u001b[39m=\u001b[39;49m logging\u001b[39m.\u001b[39;49mroot\u001b[39m.\u001b[39;49mlevel\n\u001b[1;32m    330\u001b[0m )\n\u001b[1;32m    331\u001b[0m result \u001b[39m=\u001b[39m client\u001b[39m.\u001b[39mretrieve(product, request)\n\u001b[1;32m    333\u001b[0m \u001b[39mif\u001b[39;00m lock \u001b[39mis\u001b[39;00m \u001b[39mNone\u001b[39;00m:\n",
      "File \u001b[0;32m~/Documents/Codes/mphil/lib/python3.12/site-packages/cdsapi/api.py:281\u001b[0m, in \u001b[0;36mClient.__new__\u001b[0;34m(cls, url, key, *args, **kwargs)\u001b[0m\n\u001b[1;32m    280\u001b[0m \u001b[39mdef\u001b[39;00m \u001b[39m__new__\u001b[39m(\u001b[39mcls\u001b[39m, url\u001b[39m=\u001b[39m\u001b[39mNone\u001b[39;00m, key\u001b[39m=\u001b[39m\u001b[39mNone\u001b[39;00m, \u001b[39m*\u001b[39margs, \u001b[39m*\u001b[39m\u001b[39m*\u001b[39mkwargs):\n\u001b[0;32m--> 281\u001b[0m     _, token, _ \u001b[39m=\u001b[39m get_url_key_verify(url, key, \u001b[39mNone\u001b[39;49;00m)\n\u001b[1;32m    282\u001b[0m     \u001b[39mif\u001b[39;00m \u001b[39m\"\u001b[39m\u001b[39m:\u001b[39m\u001b[39m\"\u001b[39m \u001b[39min\u001b[39;00m token:\n\u001b[1;32m    283\u001b[0m         \u001b[39mreturn\u001b[39;00m \u001b[39msuper\u001b[39m()\u001b[39m.\u001b[39m\u001b[39m__new__\u001b[39m(\u001b[39mcls\u001b[39m)\n",
      "File \u001b[0;32m~/Documents/Codes/mphil/lib/python3.12/site-packages/cdsapi/api.py:69\u001b[0m, in \u001b[0;36mget_url_key_verify\u001b[0;34m(url, key, verify)\u001b[0m\n\u001b[1;32m     66\u001b[0m             verify \u001b[39m=\u001b[39m \u001b[39mbool\u001b[39m(\u001b[39mint\u001b[39m(config\u001b[39m.\u001b[39mget(\u001b[39m\"\u001b[39m\u001b[39mverify\u001b[39m\u001b[39m\"\u001b[39m, \u001b[39m1\u001b[39m)))\n\u001b[1;32m     68\u001b[0m \u001b[39mif\u001b[39;00m url \u001b[39mis\u001b[39;00m \u001b[39mNone\u001b[39;00m \u001b[39mor\u001b[39;00m key \u001b[39mis\u001b[39;00m \u001b[39mNone\u001b[39;00m \u001b[39mor\u001b[39;00m key \u001b[39mis\u001b[39;00m \u001b[39mNone\u001b[39;00m:\n\u001b[0;32m---> 69\u001b[0m     \u001b[39mraise\u001b[39;00m \u001b[39mException\u001b[39;00m(\u001b[39m\"\u001b[39m\u001b[39mMissing/incomplete configuration file: \u001b[39m\u001b[39m%s\u001b[39;00m\u001b[39m\"\u001b[39m \u001b[39m%\u001b[39m (dotrc))\n\u001b[1;32m     71\u001b[0m \u001b[39m# If verify is still None, then we set to default value of True\u001b[39;00m\n\u001b[1;32m     72\u001b[0m \u001b[39mif\u001b[39;00m verify \u001b[39mis\u001b[39;00m \u001b[39mNone\u001b[39;00m:\n",
      "\u001b[0;31mException\u001b[0m: Missing/incomplete configuration file: /Users/frederickivens/.cdsapirc"
     ]
    }
   ],
   "source": [
    "import atlite\n",
    "import pandas as pd\n",
    "import geopandas as gpd\n",
    "import cartopy.io.shapereader as shpreader\n",
    "import matplotlib.pyplot as plt\n",
    "import cartopy.crs as ccrs\n",
    "import numpy as np\n",
    "\n",
    "# 1. Create a cutout for the entire Earth with ERA5 at hourly resolution from 01-01-2023 to 31-12-2023.\n",
    "# Define the global bounds using unary_union of all countries\n",
    "shpfilename = shpreader.natural_earth(\n",
    "    resolution=\"10m\", category=\"cultural\", name=\"admin_0_countries\"\n",
    ")\n",
    "reader = shpreader.Reader(shpfilename)\n",
    "all_countries = gpd.GeoDataFrame(\n",
    "    {'geometry': [r.geometry for r in reader.records()], 'country': [r.attributes['NAME_EN'] for r in reader.records()]},\n",
    "    crs=\"EPSG:4326\"\n",
    ")\n",
    "\n",
    "# Get the bounds of the entire world\n",
    "global_bounds = all_countries.unary_union.bounds\n",
    "\n",
    "# Define the time period of interest with hourly resolution\n",
    "time_range = pd.date_range(\"2023-01-01\", \"2023-12-31 23:00:00\", freq=\"h\")\n",
    "\n",
    "# Create the global cutout\n",
    "cutout_global = atlite.Cutout(\n",
    "    path=\"global-2023-era5-hourly.nc\",  # Path where the cutout file will be saved\n",
    "    module=\"era5\",                      # The weather data source\n",
    "    bounds=global_bounds,               # The geographical bounds from the union of all countries\n",
    "    time=time_range                     # The time range with hourly resolution\n",
    ")\n",
    "\n",
    "# Prepare the cutout (this will download the necessary data and process it)\n",
    "cutout_global.prepare()"
   ]
  }
 ],
 "metadata": {
  "kernelspec": {
   "display_name": "mphil",
   "language": "python",
   "name": "python3"
  },
  "language_info": {
   "codemirror_mode": {
    "name": "ipython",
    "version": 3
   },
   "file_extension": ".py",
   "mimetype": "text/x-python",
   "name": "python",
   "nbconvert_exporter": "python",
   "pygments_lexer": "ipython3",
   "version": "3.12.3"
  }
 },
 "nbformat": 4,
 "nbformat_minor": 2
}
