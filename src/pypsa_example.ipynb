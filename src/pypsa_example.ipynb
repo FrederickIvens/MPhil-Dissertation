{
 "cells": [
  {
   "cell_type": "code",
   "execution_count": 1,
   "metadata": {},
   "outputs": [],
   "source": [
    "import pypsa\n",
    "from pypsa.optimization.compat import define_constraints, get_var, join_exprs, linexpr\n",
    "import matplotlib.pyplot as plt\n",
    "import xarray as xr\n",
    "import seaborn as sns\n",
    "import pandas as pd \n",
    "import geopandas as gpd\n",
    "import numpy as np\n",
    "import cartopy.crs as ccrs\n",
    "from regiondefinitions import regions_dic, links_dic\n",
    "from data_import import syntheticdemand_gis, historic_demand, vre_gen_potential_atlite, res_capacity_atlite, region_plotting\n",
    "from interconnectors import calculate_flows, efficiency_link, calculate_distance\n",
    "from pyproj import Geod\n",
    "import warnings\n",
    "from shapely.errors import ShapelyDeprecationWarning\n",
    "warnings.filterwarnings(\"ignore\", category=ShapelyDeprecationWarning)\n",
    "warnings.filterwarnings(\"ignore\", category=FutureWarning, message=\"The geopandas.dataset module is deprecated and will be removed in GeoPandas 1.0. You can get the original 'naturalearth_lowres' data from https://www.naturalearthdata.com/downloads/110m-cultural-vectors/.\")\n",
    "#warnings.filterwarnings(\"ignore\", category=UserWArning, message=\"warnings.filterwarnings(\"ignore\", category=FutureWarning, message=\""
   ]
  },
  {
   "cell_type": "code",
   "execution_count": 2,
   "metadata": {},
   "outputs": [
    {
     "name": "stdout",
     "output_type": "stream",
     "text": [
      "Calculating wind for north_america\n",
      "Calculating pv for north_america\n",
      "Calculating wind for latin_america\n",
      "Calculating pv for latin_america\n",
      "Calculating wind for oceania\n",
      "Calculating pv for oceania\n",
      "Calculating wind for north_asia\n",
      "Calculating pv for north_asia\n",
      "Calculating wind for south_asia\n",
      "Calculating pv for south_asia\n",
      "Calculating wind for north_west_asia\n",
      "Calculating pv for north_west_asia\n",
      "Calculating wind for south_west_asia\n",
      "Calculating pv for south_west_asia\n",
      "Calculating wind for middle_east\n",
      "Calculating pv for middle_east\n",
      "Calculating wind for europe\n",
      "Calculating pv for europe\n",
      "Calculating wind for ups\n",
      "Calculating pv for ups\n",
      "Calculating wind for north_africa\n",
      "Calculating pv for north_africa\n",
      "Calculating wind for africa\n",
      "Calculating pv for africa\n",
      "Calculating wind for atlantic_north\n",
      "Calculating pv for atlantic_north\n"
     ]
    }
   ],
   "source": [
    "# SYNTHETIC -> excludes Europe and USA\n",
    "path = \"/Volumes/fi246disk/synde/resources/gegis/output\"\n",
    "load_profile_dic = {}\n",
    "for key, value in regions_dic.items():\n",
    "    load_profile_dic[key] = {}\n",
    "    if key != \"north_america\" and key != \"europe\" and key != \"alaska\":\n",
    "        load_profile_dic[key][\"load\"] = syntheticdemand_gis(path, key, \"ssp1-26\" )\n",
    "\n",
    "# HISTORIC -> includes Europe and USA\n",
    "demand_mult_ssp1_26_oecd = 1.36\n",
    "load_profile_dic[\"europe\"][\"load\"] = historic_demand('/Users/frederickivens/Documents/MPhil_Energy_Technologies/Dissertation_Project/Codes/data/demand/total_hourly_demand_europe_node_9_utc.csv', 2017, demand_mult_ssp1_26_oecd)\n",
    "historic_load_usa = historic_demand('/Users/frederickivens/Documents/MPhil_Energy_Technologies/Dissertation_Project/Codes/data/demand/total_hourly_demand_usa_2017_utc.csv', 2017, demand_mult_ssp1_26_oecd)\n",
    "synthetic_load_north_america_no_usa = syntheticdemand_gis(path, \"north_america_no_usa\", \"ssp1-26\")\n",
    "load_profile_dic[\"north_america\"][\"load\"] = historic_load_usa + synthetic_load_north_america_no_usa\n",
    "\n",
    "res_potential_dic = {}\n",
    "for key, value in regions_dic.items():\n",
    "    #if key != \"oceania\": #and key != \"south_asia\" and key != \"middle_east\" and key != \"europe\" and key != \"north_africa\":\n",
    "    res_potential_dic[key] = {}\n",
    "    res_potential_dic[key][\"wind\"] = vre_gen_potential_atlite(key, \"wind\", 2023, density=5, land_available=0.08)\n",
    "    res_potential_dic[key][\"pv\"] = vre_gen_potential_atlite(key, \"pv\", 2023, density=45, land_available=0.05)\n",
    "        "
   ]
  },
  {
   "cell_type": "code",
   "execution_count": 3,
   "metadata": {},
   "outputs": [
    {
     "name": "stdout",
     "output_type": "stream",
     "text": [
      "Surpplus:  2050-01-01 00:00:00   -4.753615e+06\n",
      "2050-01-01 01:00:00   -5.098593e+06\n",
      "2050-01-01 02:00:00   -5.273372e+06\n",
      "dtype: float64 2050-01-01 00:00:00   -2.439115e+06\n",
      "2050-01-01 01:00:00   -2.412076e+06\n",
      "2050-01-01 02:00:00   -2.411960e+06\n",
      "dtype: float64 2050-01-01 00:00:00   -1.185666e+06\n",
      "2050-01-01 01:00:00   -1.188366e+06\n",
      "2050-01-01 02:00:00   -1.187514e+06\n",
      "Freq: h, dtype: float64\n"
     ]
    }
   ],
   "source": [
    "# Define the snapshots\n",
    "snapshots = pd.date_range(\"2050-01-01\", periods=3, freq=\"h\")\n",
    "# Renewable energy potential time series\n",
    "# res_potential_node1 = pd.Series([2, 8, 4, 2, 8, 4], index=snapshots)\n",
    "# res_potential_node2 = pd.Series([2, 2, 2, 2, 8, 4], index=snapshots)\n",
    "# res_potential_node1_PV = pd.Series([1, 3, 1, 5, 2, 3], index=snapshots)\n",
    "# res_potential_node2_PV = pd.Series([0, 3, 4, 6, 8, 3], index=snapshots)\n",
    "res_potential_node1 = res_potential_dic['north_america']['wind'][snapshots]\n",
    "res_potential_node2 = res_potential_dic['europe']['wind'][snapshots]\n",
    "res_potential_node3 = res_potential_dic['north_africa']['wind'][snapshots]\n",
    "# Demand time series\n",
    "# demand_node1 = pd.Series([2, 4, 2, 1, 1, 1], index=snapshots)\n",
    "# demand_node2 = pd.Series([1, 1, 1, 1, 1, 1], index=snapshots)\n",
    "demand_node1 = load_profile_dic['north_america']['load'][snapshots]\n",
    "demand_node2 = load_profile_dic['europe']['load'][snapshots]\n",
    "demand_node3 = load_profile_dic['north_africa']['load'][snapshots]\n",
    "print('Surpplus: ',demand_node1 - res_potential_node1, demand_node2 - res_potential_node2, demand_node3 -res_potential_node3)"
   ]
  },
  {
   "cell_type": "code",
   "execution_count": 7,
   "metadata": {},
   "outputs": [
    {
     "name": "stderr",
     "output_type": "stream",
     "text": [
      "INFO:linopy.model: Solve problem using Highs solver\n",
      "INFO:linopy.io: Writing time: 0.01s\n",
      "INFO:linopy.solvers:Log file at /private/var/folders/ds/cj7372k1487ccc2t6pwv92m80000gn/T/highs.log\n",
      "WARNING:linopy.constants:Optimization failed: \n",
      "Status: warning\n",
      "Termination condition: unbounded\n",
      "Solution: 0 primals, 0 duals\n",
      "Objective: nan\n",
      "Solver model: available\n",
      "Solver message: unbounded\n",
      "\n"
     ]
    },
    {
     "name": "stdout",
     "output_type": "stream",
     "text": [
      "Running HiGHS 1.7.1 (git hash: 0c240d8): Copyright (c) 2024 HiGHS under MIT licence terms\n",
      "Coefficient ranges:\n",
      "  Matrix [9e-01, 6e+06]\n",
      "  Cost   [2e+00, 2e+06]\n",
      "  Bound  [0e+00, 0e+00]\n",
      "  RHS    [1e+02, 1e+10]\n",
      "Presolving model\n",
      "30 rows, 33 cols, 84 nonzeros  0s\n",
      "18 rows, 21 cols, 36 nonzeros  0s\n",
      "Solving the original LP with primal simplex to determine infeasible or unbounded\n",
      "Using EKK primal simplex solver\n",
      "  Iteration        Objective     Infeasibilities num(sum)\n",
      "          0     0.0000000000e+00 Ph1: 9(339285); Du: 27(16.95) 0s\n",
      "         64    -5.5243957874e+16 Pr: 0(0); Du: 9(2.9816e+07) 0s\n",
      "Using EKK primal simplex solver\n",
      "  Iteration        Objective     Infeasibilities num(sum)\n",
      "         64    -5.5243972521e+16 Pr: 0(0); Du: 8(1.4908e+07) 0s\n",
      "         65    -5.5260898310e+16 Pr: 0(0); Du: 7(1.10281e+07) 0s\n",
      "Model   status      : Unbounded\n",
      "Simplex   iterations: 65\n",
      "Objective value     : -5.5260898310e+16\n",
      "HiGHS run time      :          0.00\n",
      "Generator\n",
      "res_node1    0.0\n",
      "res_node2    0.0\n",
      "res_node3    0.0\n",
      "slack        0.0\n",
      "Name: p_nom_opt, dtype: float64\n",
      "Empty DataFrame\n",
      "Columns: []\n",
      "Index: [2050-01-01 00:00:00, 2050-01-01 01:00:00, 2050-01-01 02:00:00]\n",
      "{'p_set': Load                    load_node1  load_node2     load_node3  load_node4\n",
      "snapshot                                                                 \n",
      "2050-01-01 00:00:00  422910.415391   343752.82  161392.719411         0.0\n",
      "2050-01-01 01:00:00  426248.852802   331256.25  148153.061194         0.0\n",
      "2050-01-01 02:00:00  426420.694353   317225.61  136918.272377         0.0, 'q_set': Empty DataFrame\n",
      "Columns: []\n",
      "Index: [2050-01-01 00:00:00, 2050-01-01 01:00:00, 2050-01-01 02:00:00], 'p': Empty DataFrame\n",
      "Columns: []\n",
      "Index: [2050-01-01 00:00:00, 2050-01-01 01:00:00, 2050-01-01 02:00:00], 'q': Empty DataFrame\n",
      "Columns: []\n",
      "Index: [2050-01-01 00:00:00, 2050-01-01 01:00:00, 2050-01-01 02:00:00]}\n",
      "Empty DataFrame\n",
      "Columns: []\n",
      "Index: [2050-01-01 00:00:00, 2050-01-01 01:00:00, 2050-01-01 02:00:00]\n",
      "Empty DataFrame\n",
      "Columns: []\n",
      "Index: [2050-01-01 00:00:00, 2050-01-01 01:00:00, 2050-01-01 02:00:00]\n"
     ]
    }
   ],
   "source": [
    "# Create a new network\n",
    "n = pypsa.Network()\n",
    "\n",
    "\n",
    "n.set_snapshots(snapshots)\n",
    "\n",
    "# Add buses\n",
    "n.add(\"Bus\", \"node1\", v_nom=800,  v_mag_pu_set=1.0, v_mag_pu_min=0.95,v_mag_pu_max=1.05)\n",
    "n.add(\"Bus\", \"node2\",  v_nom=800,v_mag_pu_set=1.0, v_mag_pu_min=0.95,v_mag_pu_max=1.05)\n",
    "n.add(\"Bus\", \"node3\",  v_nom=800,v_mag_pu_set=1.0, v_mag_pu_min=0.95,v_mag_pu_max=1.05)\n",
    "n.add(\"Bus\", \"node4\", v_nom=800, v_mag_pu_set=1.0, v_mag_pu_min=0.95,v_mag_pu_max=1.05)\n",
    "\n",
    "\n",
    "\n",
    "\n",
    "# Add renewable generators with fixed production according to potential\n",
    "# n.add(\"Generator\", \"res_node1\", bus=\"node1\", type=\"Wind\", p_nom_extendable=False, p_set=res_potential_node1,marginal_cost=200, capital_cost=1000)\n",
    "# n.add(\"Generator\", \"res_node2\", bus=\"node2\", type=\"Wind\", p_nom_extendable=False,p_set=res_potential_node2,marginal_cost=200, capital_cost=1000)\n",
    "# n.add(\"Generator\", \"res_node3\", bus=\"node3\", type=\"Wind\", p_nom_extendable=False,p_set=res_potential_node3,marginal_cost=200, capital_cost=1000)\n",
    "n.add(\"Generator\", \"res_node1\", bus=\"node1\", carrier=\"Wind\", p_nom_extendable=True, p_nom_max = 100, p_max_pu=res_potential_node1, p_min_pu=res_potential_node1,marginal_cost=2, capital_cost=2)\n",
    "n.add(\"Generator\", \"res_node2\", bus=\"node2\", carrier=\"Wind\", p_nom_extendable=True,p_nom_max = 100, p_max_pu=res_potential_node2, p_min_pu=res_potential_node2,marginal_cost=2, capital_cost=2)\n",
    "n.add(\"Generator\", \"res_node3\", bus=\"node3\", carrier=\"Wind\", p_nom_extendable=True,p_nom_max = 100, p_max_pu=res_potential_node2, p_min_pu=res_potential_node2,marginal_cost=2, capital_cost=2)\n",
    "# n.add(\"Generator\", \"res_node1\", bus=\"node1\", type=\"Wind\", p_nom_extendable=True, marginal_cost=200, capital_cost=1000)\n",
    "# n.add(\"Generator\", \"res_node2\", bus=\"node2\", type=\"Wind\", p_nom_extendable=True,marginal_cost=200, capital_cost=1000)\n",
    "# n.add(\"Generator\", \"res_node3\", bus=\"node3\", type=\"Wind\", p_nom_extendable=True,marginal_cost=200, capital_cost=1000)\n",
    "n.add(\"Generator\", \"slack\", bus=\"node4\", type= 'Slack', p_nom_extendable=True, p_nom_max = 1e10,marginal_cost=100000, sign=-1)\n",
    "\n",
    "#n.add(\"Generator\", \"res_node3\", bus=\"node3\", carrier=\"Wind\", p_nom_extendable=True,p_nom_max = 1, p_max_pu=res_potential_node2, p_min_pu=res_potential_node2,marginal_cost=2, capital_cost=2)\n",
    "#n.add(\"Generator\", \"curtailment\", bus=\"node3\", carrier=\"Gas\", p_nom = 1, p_nom_extendable=True, marginal_cost=1)\n",
    "# n.add(\"Generator\", \"res_node1_pv\", bus=\"node1\", carrier=\"PV\", p_nom_extendable=True, p_max_pu=res_potential_node1_PV, p_min_pu=res_potential_node1_PV, marginal_cost=1)\n",
    "# n.add(\"Generator\", \"res_node2_pv\", bus=\"node2\", carrier=\"PV\", p_nom_extendable=True, p_max_pu=res_potential_node2_PV, p_min_pu=res_potential_node2_PV, marginal_cost=1)\n",
    "\n",
    "# Add loads\n",
    "n.add(\"Load\", \"load_node1\", bus=\"node1\", p_set=demand_node1)\n",
    "n.add(\"Load\", \"load_node2\", bus=\"node2\", p_set=demand_node2)\n",
    "n.add(\"Load\", \"load_node3\", bus=\"node3\", p_set=demand_node3)\n",
    "n.add(\"Load\", \"load_node4\", bus=\"node4\", p_set=np.zeros(len(snapshots)))\n",
    "#n.add(\"Load\", \"load_node3\", bus=\"node3\", p_set=demand_node2)\n",
    "\n",
    "# Add a transmission line (link) between the nodes\n",
    "n.add(\"Link\", \"link_node1_node2\", bus0=\"node1\", bus1=\"node2\", p_nom_extendable=True, p_min_pu=-1, efficiency=0.9, marginal_cost=200)\n",
    "n.add(\"Link\", \"link_node1_node3\", bus0=\"node1\", bus1=\"node3\", p_nom_extendable=True, p_min_pu=-1, efficiency=0.9, marginal_cost=200)\n",
    "n.add(\"Link\", \"link_node3_node2\", bus0=\"node2\", bus1=\"node3\", p_nom_extendable=True, p_min_pu=-1, efficiency=0.9, marginal_cost=200)\n",
    "n.add(\"Link\", \"link_slack3\", bus0=\"node4\", bus1=\"node3\", p_nom_extendable=True, p_min_pu=-1, efficiency=1.0, marginal_cost=2000000)\n",
    "n.add(\"Link\", \"link_slack2\", bus0=\"node4\", bus1=\"node2\", p_nom_extendable=True,p_min_pu=-1, efficiency=1.0, marginal_cost=200000)\n",
    "n.add(\"Link\", \"link_slack1\", bus0=\"node4\", bus1=\"node1\", p_nom_extendable=True,  p_min_pu=-1, efficiency=1.0, marginal_cost=200000)\n",
    "# n.add(\"Link\", \"link_curtailment_node2\", bus0=\"node3\", bus1=\"node2\", p_nom_extendable=True, p_min_pu=-1, efficiency=0.7)\n",
    "# n.add(\"Link\", \"link_curtailment_node1\", bus0=\"node3\", bus1=\"node1\", p_nom_extendable=True, p_min_pu=-1, efficiency=0.7)\n",
    "\n",
    "\n",
    "# Add curtailment generators with high marginal cost to penalize excess generation\n",
    "curtailment_cost = 1000  # High cost to penalize curtailment\n",
    "# n.add(\"Generator\", \"curtailment_node1\", bus=\"node1\", type='Curtailment',p_nom_extendable=True, p_nom_max = 1e10,marginal_cost=curtailment_cost, sign=-1)\n",
    "# n.add(\"Generator\", \"curtailment_node2\", bus=\"node2\", type= 'Curtailment',p_nom_extendable=True, p_nom_max = 1e10,marginal_cost=curtailment_cost, sign=-1)\n",
    "# n.add(\"Generator\", \"curtailment_node3\", bus=\"node3\", type= 'Curtailment', p_nom_extendable=True, p_nom_max = 1e10,marginal_cost=curtailment_cost, sign=-1)\n",
    "# Check if all buses exist\n",
    "# print(n.buses)\n",
    "\n",
    "\n",
    "\n",
    "m = n.optimize.create_model();\n",
    "\n",
    "# Access the generator power output variable\n",
    "# gen_p = m.variables[\"Generator-p\"]\n",
    "# total_generation = gen_p.sum().sum()\n",
    "# total_demand = n.loads_t.p_set.sum().sum()\n",
    "# constraint_expression = total_generation == total_demand\n",
    "# m.add_constraints(constraint_expression, name=\"generation_meets_demand\")\n",
    "\n",
    "n.optimize(solver_name='highs')\n",
    "\n",
    "# Print the results\n",
    "print(n.generators.p_nom_opt)\n",
    "print(n.generators_t.p)\n",
    "print(n.loads_t)\n",
    "print(n.links_t.p0)\n",
    "print(n.links_t.p1)\n"
   ]
  },
  {
   "cell_type": "code",
   "execution_count": 119,
   "metadata": {},
   "outputs": [
    {
     "name": "stderr",
     "output_type": "stream",
     "text": [
      "INFO:linopy.model: Solve problem using Gurobi solver\n"
     ]
    },
    {
     "name": "stdout",
     "output_type": "stream",
     "text": [
      "Set parameter Username\n"
     ]
    },
    {
     "name": "stderr",
     "output_type": "stream",
     "text": [
      "INFO:gurobipy:Set parameter Username\n"
     ]
    },
    {
     "name": "stdout",
     "output_type": "stream",
     "text": [
      "Academic license - for non-commercial use only - expires 2025-06-14\n"
     ]
    },
    {
     "name": "stderr",
     "output_type": "stream",
     "text": [
      "INFO:gurobipy:Academic license - for non-commercial use only - expires 2025-06-14\n",
      "INFO:linopy.io: Writing time: 0.02s\n"
     ]
    },
    {
     "name": "stdout",
     "output_type": "stream",
     "text": [
      "Read LP format model from file /private/var/folders/ds/cj7372k1487ccc2t6pwv92m80000gn/T/linopy-problem-uinxsg3f.lp\n"
     ]
    },
    {
     "name": "stderr",
     "output_type": "stream",
     "text": [
      "INFO:gurobipy:Read LP format model from file /private/var/folders/ds/cj7372k1487ccc2t6pwv92m80000gn/T/linopy-problem-uinxsg3f.lp\n"
     ]
    },
    {
     "name": "stdout",
     "output_type": "stream",
     "text": [
      "Reading time = 0.00 seconds\n"
     ]
    },
    {
     "name": "stderr",
     "output_type": "stream",
     "text": [
      "INFO:gurobipy:Reading time = 0.00 seconds\n"
     ]
    },
    {
     "name": "stdout",
     "output_type": "stream",
     "text": [
      "obj: 39 rows, 18 columns, 63 nonzeros\n"
     ]
    },
    {
     "name": "stderr",
     "output_type": "stream",
     "text": [
      "INFO:gurobipy:obj: 39 rows, 18 columns, 63 nonzeros\n"
     ]
    },
    {
     "name": "stdout",
     "output_type": "stream",
     "text": [
      "Gurobi Optimizer version 11.0.2 build v11.0.2rc0 (mac64[arm] - Darwin 23.4.0 23E214)\n"
     ]
    },
    {
     "name": "stderr",
     "output_type": "stream",
     "text": [
      "INFO:gurobipy:Gurobi Optimizer version 11.0.2 build v11.0.2rc0 (mac64[arm] - Darwin 23.4.0 23E214)\n"
     ]
    },
    {
     "name": "stdout",
     "output_type": "stream",
     "text": [
      "\n"
     ]
    },
    {
     "name": "stderr",
     "output_type": "stream",
     "text": [
      "INFO:gurobipy:\n"
     ]
    },
    {
     "name": "stdout",
     "output_type": "stream",
     "text": [
      "CPU model: Apple M2\n"
     ]
    },
    {
     "name": "stderr",
     "output_type": "stream",
     "text": [
      "INFO:gurobipy:CPU model: Apple M2\n"
     ]
    },
    {
     "name": "stdout",
     "output_type": "stream",
     "text": [
      "Thread count: 8 physical cores, 8 logical processors, using up to 8 threads\n"
     ]
    },
    {
     "name": "stderr",
     "output_type": "stream",
     "text": [
      "INFO:gurobipy:Thread count: 8 physical cores, 8 logical processors, using up to 8 threads\n"
     ]
    },
    {
     "name": "stdout",
     "output_type": "stream",
     "text": [
      "\n"
     ]
    },
    {
     "name": "stderr",
     "output_type": "stream",
     "text": [
      "INFO:gurobipy:\n"
     ]
    },
    {
     "name": "stdout",
     "output_type": "stream",
     "text": [
      "Optimize a model with 39 rows, 18 columns and 63 nonzeros\n"
     ]
    },
    {
     "name": "stderr",
     "output_type": "stream",
     "text": [
      "INFO:gurobipy:Optimize a model with 39 rows, 18 columns and 63 nonzeros\n"
     ]
    },
    {
     "name": "stdout",
     "output_type": "stream",
     "text": [
      "Model fingerprint: 0x4ae562f4\n"
     ]
    },
    {
     "name": "stderr",
     "output_type": "stream",
     "text": [
      "INFO:gurobipy:Model fingerprint: 0x4ae562f4\n"
     ]
    },
    {
     "name": "stdout",
     "output_type": "stream",
     "text": [
      "Coefficient statistics:\n"
     ]
    },
    {
     "name": "stderr",
     "output_type": "stream",
     "text": [
      "INFO:gurobipy:Coefficient statistics:\n"
     ]
    },
    {
     "name": "stdout",
     "output_type": "stream",
     "text": [
      "  Matrix range     [9e-01, 1e+00]\n"
     ]
    },
    {
     "name": "stderr",
     "output_type": "stream",
     "text": [
      "INFO:gurobipy:  Matrix range     [9e-01, 1e+00]\n"
     ]
    },
    {
     "name": "stdout",
     "output_type": "stream",
     "text": [
      "  Objective range  [1e+00, 2e+00]\n"
     ]
    },
    {
     "name": "stderr",
     "output_type": "stream",
     "text": [
      "INFO:gurobipy:  Objective range  [1e+00, 2e+00]\n"
     ]
    },
    {
     "name": "stdout",
     "output_type": "stream",
     "text": [
      "  Bounds range     [0e+00, 0e+00]\n"
     ]
    },
    {
     "name": "stderr",
     "output_type": "stream",
     "text": [
      "INFO:gurobipy:  Bounds range     [0e+00, 0e+00]\n"
     ]
    },
    {
     "name": "stdout",
     "output_type": "stream",
     "text": [
      "  RHS range        [1e+00, 8e+00]\n"
     ]
    },
    {
     "name": "stderr",
     "output_type": "stream",
     "text": [
      "INFO:gurobipy:  RHS range        [1e+00, 8e+00]\n"
     ]
    },
    {
     "name": "stdout",
     "output_type": "stream",
     "text": [
      "Presolve removed 39 rows and 18 columns\n"
     ]
    },
    {
     "name": "stderr",
     "output_type": "stream",
     "text": [
      "INFO:gurobipy:Presolve removed 39 rows and 18 columns\n"
     ]
    },
    {
     "name": "stdout",
     "output_type": "stream",
     "text": [
      "Presolve time: 0.00s\n"
     ]
    },
    {
     "name": "stderr",
     "output_type": "stream",
     "text": [
      "INFO:gurobipy:Presolve time: 0.00s\n"
     ]
    },
    {
     "name": "stdout",
     "output_type": "stream",
     "text": [
      "Presolve: All rows and columns removed\n"
     ]
    },
    {
     "name": "stderr",
     "output_type": "stream",
     "text": [
      "INFO:gurobipy:Presolve: All rows and columns removed\n"
     ]
    },
    {
     "name": "stdout",
     "output_type": "stream",
     "text": [
      "Iteration    Objective       Primal Inf.    Dual Inf.      Time\n"
     ]
    },
    {
     "name": "stderr",
     "output_type": "stream",
     "text": [
      "INFO:gurobipy:Iteration    Objective       Primal Inf.    Dual Inf.      Time\n"
     ]
    },
    {
     "name": "stdout",
     "output_type": "stream",
     "text": [
      "       0    3.6666667e+01   0.000000e+00   0.000000e+00      0s\n"
     ]
    },
    {
     "name": "stderr",
     "output_type": "stream",
     "text": [
      "INFO:gurobipy:       0    3.6666667e+01   0.000000e+00   0.000000e+00      0s\n"
     ]
    },
    {
     "name": "stdout",
     "output_type": "stream",
     "text": [
      "\n"
     ]
    },
    {
     "name": "stderr",
     "output_type": "stream",
     "text": [
      "INFO:gurobipy:\n"
     ]
    },
    {
     "name": "stdout",
     "output_type": "stream",
     "text": [
      "Solved in 0 iterations and 0.00 seconds (0.00 work units)\n"
     ]
    },
    {
     "name": "stderr",
     "output_type": "stream",
     "text": [
      "INFO:gurobipy:Solved in 0 iterations and 0.00 seconds (0.00 work units)\n"
     ]
    },
    {
     "name": "stdout",
     "output_type": "stream",
     "text": [
      "Optimal objective  3.666666667e+01\n"
     ]
    },
    {
     "name": "stderr",
     "output_type": "stream",
     "text": [
      "INFO:gurobipy:Optimal objective  3.666666667e+01\n",
      "INFO:linopy.constants: Optimization successful: \n",
      "Status: ok\n",
      "Termination condition: optimal\n",
      "Solution: 18 primals, 39 duals\n",
      "Objective: 3.67e+01\n",
      "Solver model: available\n",
      "Solver message: 2\n",
      "\n",
      "INFO:pypsa.optimization.optimize:The shadow-prices of the constraints Generator-fix-p-lower, Generator-fix-p-upper, Generator-ext-p-lower, Generator-ext-p-upper, Link-ext-p-lower, Link-ext-p-upper were not assigned to the network.\n"
     ]
    },
    {
     "name": "stdout",
     "output_type": "stream",
     "text": [
      "Generator\n",
      "res_node1            1.000000\n",
      "res_node2            1.000000\n",
      "curtailment_node1    5.111111\n",
      "curtailment_node2    0.000000\n",
      "Name: p_nom_opt, dtype: float64\n",
      "Generator            res_node1  res_node2  curtailment_node1  \\\n",
      "snapshot                                                       \n",
      "2023-01-01 00:00:00        2.0        2.0           1.111111   \n",
      "2023-01-01 01:00:00        8.0        2.0           5.111111   \n",
      "2023-01-01 02:00:00        4.0        2.0           3.111111   \n",
      "\n",
      "Generator            curtailment_node2  \n",
      "snapshot                                \n",
      "2023-01-01 00:00:00                0.0  \n",
      "2023-01-01 01:00:00                0.0  \n",
      "2023-01-01 02:00:00                0.0  \n",
      "Load                 load_node1  load_node2\n",
      "snapshot                                   \n",
      "2023-01-01 00:00:00         2.0         1.0\n",
      "2023-01-01 01:00:00         4.0         1.0\n",
      "2023-01-01 02:00:00         2.0         1.0\n",
      "Link                 link_node1_node2\n",
      "snapshot                             \n",
      "2023-01-01 00:00:00         -1.111111\n",
      "2023-01-01 01:00:00         -1.111111\n",
      "2023-01-01 02:00:00         -1.111111\n",
      "Link                 link_node1_node2\n",
      "snapshot                             \n",
      "2023-01-01 00:00:00               1.0\n",
      "2023-01-01 01:00:00               1.0\n",
      "2023-01-01 02:00:00               1.0\n"
     ]
    }
   ],
   "source": [
    "\n",
    "import matplotlib.pyplot as plt\n",
    "import pandas as pd\n",
    "import numpy as np\n",
    "import pypsa\n",
    "\n",
    "\n",
    "# Create a new network\n",
    "n = pypsa.Network()\n",
    "\n",
    "# Define the snapshots\n",
    "snapshots = pd.date_range(\"2023-01-01\", periods=3, freq=\"h\")\n",
    "n.set_snapshots(snapshots)\n",
    "\n",
    "# Add buses\n",
    "n.add(\"Bus\", \"node1\", v_nom=1.0, v_mag_pu_set=1.0, v_mag_pu_min=0.95, v_mag_pu_max=1.05)\n",
    "n.add(\"Bus\", \"node2\", v_nom=1.0, v_mag_pu_set=1.0, v_mag_pu_min=0.95, v_mag_pu_max=1.05)\n",
    "#n.add(\"Bus\", \"node3\", v_nom=1.0, v_mag_pu_set=1.0, v_mag_pu_min=0.95,v_mag_pu_max=1.05)\n",
    "# n.add(\"Bus\", \"node3\", v_nom=1.0, v_mag_pu_set=1.0, v_mag_pu_min=0.95,v_mag_pu_max=1.05)\n",
    "\n",
    "\n",
    "# Renewable energy potential time series\n",
    "# res_potential_node1 = pd.Series([2, 8, 4, 2, 8, 4], index=snapshots)\n",
    "# res_potential_node2 = pd.Series([2, 2, 2, 2, 8, 4], index=snapshots)\n",
    "# res_potential_node1_PV = pd.Series([1, 3, 1, 5, 2, 3], index=snapshots)\n",
    "# res_potential_node2_PV = pd.Series([0, 3, 4, 6, 8, 3], index=snapshots)\n",
    "res_potential_node1 = pd.Series([2, 8, 4], index=snapshots)\n",
    "res_potential_node2 = pd.Series([2, 2, 2], index=snapshots)\n",
    "\n",
    "# Demand time series\n",
    "# demand_node1 = pd.Series([2, 4, 2, 1, 1, 1], index=snapshots)\n",
    "# demand_node2 = pd.Series([1, 1, 1, 1, 1, 1], index=snapshots)\n",
    "demand_node1 = pd.Series([2, 4, 2], index=snapshots)\n",
    "demand_node2 = pd.Series([1, 1, 1], index=snapshots)\n",
    "\n",
    "\n",
    "# Add renewable generators with fixed production according to potential\n",
    "n.add(\"Generator\", \"res_node1\", bus=\"node1\", type=\"Wind\", p_nom_extendable=False, p_nom = 1, p_max_pu=res_potential_node1, p_min_pu=res_potential_node1,marginal_cost=2, capital_cost=2)\n",
    "n.add(\"Generator\", \"res_node2\", bus=\"node2\", type=\"Wind\", p_nom_extendable=False,p_nom = 1, p_max_pu=res_potential_node2, p_min_pu=res_potential_node2, marginal_cost=2, capital_cost=2)\n",
    "\n",
    "# Add loads\n",
    "n.add(\"Load\", \"load_node1\", bus=\"node1\", p_set=demand_node1)\n",
    "n.add(\"Load\", \"load_node2\", bus=\"node2\", p_set=demand_node2)\n",
    "#n.add(\"Load\", \"load_node3\", bus=\"node3\", p_set=demand_node1)\n",
    "\n",
    "# Add a transmission line (link) between the nodes\n",
    "n.add(\"Link\", \"link_node1_node2\", bus0=\"node1\", bus1=\"node2\", p_nom_extendable=True, p_min_pu=-1, efficiency=0.9, marginal_cost = 1)\n",
    "\n",
    "# Add curtailment generators with high marginal cost to penalize excess generation\n",
    "curtailment_cost = 0  # High cost to penalize curtailment\n",
    "n.add(\"Generator\", \"curtailment_node1\", bus=\"node1\", type='Curtailment', p_nom_extendable=True,marginal_cost=curtailment_cost, sign=-1)\n",
    "n.add(\"Generator\", \"curtailment_node2\", bus=\"node2\", type='Curtailment', p_nom_extendable=True, marginal_cost=curtailment_cost, sign=-1)\n",
    "# n.add(\"Store\", \"curtailment_node1\", bus=\"node1\", type='Curtailment', e_nom_extendable=True,marginal_cost=curtailment_cost)\n",
    "# n.add(\"Store\", \"curtailment_node2\", bus=\"node2\", type='Curtailment', e_nom_extendable=True, marginal_cost=curtailment_cost)\n",
    "\n",
    "m = n.optimize.create_model();\n",
    "\n",
    "\n",
    "n.optimize(solver_name='gurobi')\n",
    "\n",
    "# Print the results\n",
    "print(n.generators.p_nom_opt)\n",
    "print(n.generators_t.p)\n",
    "print(n.loads_t.p_set)\n",
    "print(n.links_t.p0)\n",
    "print(n.links_t.p1)\n"
   ]
  },
  {
   "cell_type": "code",
   "execution_count": 29,
   "metadata": {},
   "outputs": [
    {
     "data": {
      "text/plain": [
       "Constraint `generation_meets_demand`\n",
       "------------------------------------\n",
       "+1 Generator-p[2050-01-01 00:00:00, res_node1] + 1 Generator-p[2050-01-01 00:00:00, res_node2] + 1 Generator-p[2050-01-01 00:00:00, res_node3] ... +1 Generator-p[2050-01-01 02:00:00, curtailment_node1] + 1 Generator-p[2050-01-01 02:00:00, curtailment_node2] + 1 Generator-p[2050-01-01 02:00:00, curtailment_node3] = 2714278.695527597"
      ]
     },
     "execution_count": 29,
     "metadata": {},
     "output_type": "execute_result"
    }
   ],
   "source": [
    "m.constraints['generation_meets_demand']"
   ]
  },
  {
   "cell_type": "code",
   "execution_count": 107,
   "metadata": {},
   "outputs": [],
   "source": [
    "# THIS WORKS, NEXT STEP IS TO PLOT IT\n",
    "balances = []\n",
    "outflows = []\n",
    "generations = []\n",
    "loads = []\n",
    "slacks = []\n",
    "curtailments = []\n",
    "for snapshot in snapshots:\n",
    "    buses = []\n",
    "    balances_ = []\n",
    "    outflows_ = []\n",
    "    generations_ = []\n",
    "    curtailments_ = []\n",
    "    loads_ = []\n",
    "    for bus in n.buses.index:\n",
    "        vre_generators = n.generators[(n.generators['bus'] == bus) & ((n.generators['type'] == \"Wind\") | (n.generators['type'] == \"PV\"))]\n",
    "        cur_generators = n.generators[(n.generators['bus'] == bus) & (n.generators['type'] == \"Curtailment\")]\n",
    "        vre_p = n.generators_t.p.loc[snapshot, vre_generators.index].sum()\n",
    "        cur_p = n.generators_t.p.loc[snapshot, cur_generators.index].sum()\n",
    "        outflow = 0\n",
    "        load = n.loads_t.p_set.loc[snapshot][f'load_{bus}']\n",
    "        for link in n.links.index:\n",
    "            if bus == n.links[\"bus0\"][link]:\n",
    "                outflow += n.links_t.p0.loc[snapshot][link]\n",
    "            if bus == n.links[\"bus1\"][link]:\n",
    "                outflow += n.links_t.p1.loc[snapshot][link]\n",
    "        balance = vre_p - load - cur_p -outflow\n",
    "        balances_.append(balance)\n",
    "        outflows_.append(outflow)\n",
    "        generations_.append(vre_p)\n",
    "        curtailments_.append(cur_p)\n",
    "        loads_.append(load)\n",
    "    balances.append(balances_)\n",
    "    outflows.append(outflows_)\n",
    "    generations.append(generations_)\n",
    "    curtailments.append(curtailments_)\n",
    "    loads.append(loads_)"
   ]
  },
  {
   "cell_type": "code",
   "execution_count": 108,
   "metadata": {},
   "outputs": [
    {
     "name": "stdout",
     "output_type": "stream",
     "text": [
      "[[2. 2.]\n",
      " [8. 2.]\n",
      " [4. 2.]]\n",
      "[[2. 1.]\n",
      " [4. 1.]\n",
      " [2. 1.]]\n",
      "0.0\n"
     ]
    }
   ],
   "source": [
    "# Convert lists to numpy arrays for easier indexing\n",
    "balances = np.array(balances)\n",
    "outflows = np.array(outflows) * -1   # Make outflows negative\n",
    "generations = np.array(generations)\n",
    "curtailments = np.array(curtailments)\n",
    "loads = np.array(loads)\n",
    "total_balance = np.sum(generations) - np.sum(curtailments)- np.sum(loads)\n",
    "print(generations)\n",
    "print(loads)\n",
    "print(total_balance)"
   ]
  },
  {
   "cell_type": "code",
   "execution_count": 109,
   "metadata": {},
   "outputs": [
    {
     "data": {
      "image/png": "[encoded data removed]",
      "text/plain": [
       "<Figure size 1500x1000 with 2 Axes>"
      ]
     },
     "metadata": {},
     "output_type": "display_data"
    }
   ],
   "source": [
    "# Ensure all sublists have the same length\n",
    "num_buses = len(n.buses.index)\n",
    "\n",
    "# Number of snapshots\n",
    "num_snapshots = len(snapshots)\n",
    "\n",
    "# Create subplots for each bus\n",
    "fig, axes = plt.subplots(num_buses, 1, figsize=(15, num_buses * 5), sharex=True)\n",
    "\n",
    "# If there's only one bus, make sure axes is iterable\n",
    "if num_buses == 1:\n",
    "    axes = [axes]\n",
    "\n",
    "# Plot data for each bus\n",
    "bar_width = 0.15  # Adjust bar width to fit all bars within each time step\n",
    "for i, bus in enumerate(n.buses.index):\n",
    "    ax = axes[i]\n",
    "    indices = np.arange(num_snapshots)\n",
    "    \n",
    "    # Plot load\n",
    "    ax.bar(indices - 2 * bar_width, loads[:, i], bar_width, label='Load')\n",
    "    \n",
    "    # Plot generation\n",
    "    ax.bar(indices - bar_width, generations[:, i], bar_width, label='Generation')\n",
    "\n",
    "    # Plot curtailment\n",
    "    ax.bar(indices, curtailments[:, i], bar_width, label='Curtailment')\n",
    "    \n",
    "    # Plot outflow\n",
    "    ax.bar(indices + bar_width, outflows[:, i], bar_width, label='Netflow')\n",
    "    \n",
    "    # Plot balance\n",
    "    ax.bar(indices + 2 * bar_width, balances[:, i], bar_width, label='Balance')\n",
    "    \n",
    "    ax.set_title(f\"Bus: {bus}\")\n",
    "    ax.set_xticks(indices)\n",
    "    ax.set_xticklabels(snapshots.strftime('%Y-%m-%d %H:%M'), rotation=45)\n",
    "    ax.legend()\n",
    "    ax.grid(True)\n",
    "\n",
    "# Set overall plot title and labels\n",
    "fig.suptitle('Load, Generation, Curtailment, Outflow, and Balance for Each Node Over Time', fontsize=16)\n",
    "fig.supxlabel('Time')\n",
    "fig.supylabel('Power (MW)')\n",
    "plt.tight_layout(rect=[0, 0, 1, 0.96])\n",
    "plt.show()"
   ]
  },
  {
   "cell_type": "code",
   "execution_count": 1,
   "metadata": {},
   "outputs": [
    {
     "name": "stdout",
     "output_type": "stream",
     "text": [
      "test\n"
     ]
    }
   ],
   "source": [
    "print('test')"
   ]
  }
 ],
 "metadata": {
  "kernelspec": {
   "display_name": "mphil",
   "language": "python",
   "name": "python3"
  },
  "language_info": {
   "codemirror_mode": {
    "name": "ipython",
    "version": 3
   },
   "file_extension": ".py",
   "mimetype": "text/x-python",
   "name": "python",
   "nbconvert_exporter": "python",
   "pygments_lexer": "ipython3",
   "version": "3.12.3"
  }
 },
 "nbformat": 4,
 "nbformat_minor": 2
}
